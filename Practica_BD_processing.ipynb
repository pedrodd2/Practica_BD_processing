{
 "cells": [
  {
   "cell_type": "code",
   "execution_count": 1,
   "metadata": {},
   "outputs": [],
   "source": [
    "#inicamos spark\n",
    "import findspark\n",
    "findspark.init()\n",
    "\n",
    "import pandas as pd\n",
    "import pyspark\n",
    "\n",
    "from pyspark.sql import SparkSession,Window\n",
    "from pyspark.sql.functions import *\n",
    "\n",
    "\n",
    "spark = SparkSession.builder.getOrCreate()\n"
   ]
  },
  {
   "cell_type": "code",
   "execution_count": 2,
   "metadata": {},
   "outputs": [],
   "source": [
    "df = spark.read.csv(\"Datasets/world-happiness-report-2021.csv\", sep=\",\", header=True, inferSchema=True)"
   ]
  },
  {
   "attachments": {},
   "cell_type": "markdown",
   "metadata": {},
   "source": [
    "1. ¿Cuál es el país más “feliz” del 2021 según la data? (considerar que la columna “Ladder score” \n",
    "mayor número más feliz es el país) "
   ]
  },
  {
   "cell_type": "code",
   "execution_count": 3,
   "metadata": {},
   "outputs": [
    {
     "name": "stdout",
     "output_type": "stream",
     "text": [
      "El pais con mayor indice de felicidad en 2021 es Finland.\n"
     ]
    }
   ],
   "source": [
    "# Seleccionamos el primero\n",
    "df_pri = df.select(\"Country name\", \"Ladder score\").orderBy(desc(\"Ladder score\")).first()[0]\n",
    "print(f\"El pais con mayor indice de felicidad en 2021 es {df_pri}.\")"
   ]
  },
  {
   "attachments": {},
   "cell_type": "markdown",
   "metadata": {},
   "source": [
    "2. ¿Cuál es el país más “feliz” del 2021 por continente según la data? "
   ]
  },
  {
   "cell_type": "code",
   "execution_count": 4,
   "metadata": {},
   "outputs": [
    {
     "name": "stdout",
     "output_type": "stream",
     "text": [
      "+--------------------+--------------------+----------------+\n",
      "|  Regional indicator|        Country name|Max Ladder Score|\n",
      "+--------------------+--------------------+----------------+\n",
      "|Central and Easte...|      Czech Republic|           6.965|\n",
      "|Commonwealth of I...|          Uzbekistan|           6.179|\n",
      "|           East Asia|Taiwan Province o...|           6.584|\n",
      "|Latin America and...|          Costa Rica|           7.069|\n",
      "|Middle East and N...|              Israel|           7.157|\n",
      "|North America and...|         New Zealand|           7.277|\n",
      "|          South Asia|               Nepal|           5.269|\n",
      "|      Southeast Asia|           Singapore|           6.377|\n",
      "|  Sub-Saharan Africa|           Mauritius|           6.049|\n",
      "|      Western Europe|             Finland|           7.842|\n",
      "+--------------------+--------------------+----------------+\n",
      "\n"
     ]
    }
   ],
   "source": [
    "\n",
    "df.orderBy(desc(\"Ladder score\")).groupBy(\"Regional indicator\").agg(first(\"Country name\").alias(\"Country name\"),first(\"Ladder score\").alias(\"Max Ladder Score\")).show()"
   ]
  },
  {
   "attachments": {},
   "cell_type": "markdown",
   "metadata": {},
   "source": [
    "3. ¿Cuál es el país que más veces ocupó el primer lugar en todos los años? "
   ]
  },
  {
   "cell_type": "code",
   "execution_count": 5,
   "metadata": {},
   "outputs": [],
   "source": [
    "#Leemeos el segundo dataset\n",
    "df_2 = spark.read.csv(\"Datasets/world-happiness-report.csv\", sep=\",\", header=True, inferSchema=True)"
   ]
  },
  {
   "cell_type": "code",
   "execution_count": 6,
   "metadata": {},
   "outputs": [],
   "source": [
    "#nos quedamos con las columnas que nos interesan\n",
    "df_2_filter = df_2.select(\"Country name\",\"year\",\"Life Ladder\",\"Log GDP per capita\",\"Healthy life expectancy at birth\")\n"
   ]
  },
  {
   "cell_type": "code",
   "execution_count": 7,
   "metadata": {},
   "outputs": [],
   "source": [
    "#anyadimos columna year al primer dataset\n",
    "df_2021 = df.withColumn(\"year\", lit(2021))"
   ]
  },
  {
   "cell_type": "code",
   "execution_count": 8,
   "metadata": {},
   "outputs": [],
   "source": [
    "#nos quedamos con las columnas que nos interesan\n",
    "df_2021 = df_2021.select(\"Country name\",\"year\",\"Ladder score\",\"Logged GDP per capita\",\"Healthy life expectancy\")"
   ]
  },
  {
   "cell_type": "code",
   "execution_count": 9,
   "metadata": {},
   "outputs": [],
   "source": [
    "#Cambiamos el combre de la columnas para que coincida con el primer dataset\n",
    "df_2021 = df_2021.withColumnRenamed(\"Ladder score\",\"Life Ladder\").withColumnRenamed(\"Logged GDP per capita\",\"Log GDP per capita\").withColumnRenamed(\"Healthy life expectancy\",\"Healthy life expectancy at birth\")"
   ]
  },
  {
   "cell_type": "code",
   "execution_count": 10,
   "metadata": {},
   "outputs": [],
   "source": [
    "#Unimos los dos dataframe con las columnas que nos interesan\n",
    "df_union = df_2_filter.union(df_2021).distinct()"
   ]
  },
  {
   "cell_type": "code",
   "execution_count": 14,
   "metadata": {},
   "outputs": [],
   "source": [
    "\n",
    "#df_union.coalesce(1).write.format(\"com.databricks.spark.csv\").option(\"header\", \"true\").save(\"union.csv\")"
   ]
  },
  {
   "cell_type": "code",
   "execution_count": 11,
   "metadata": {},
   "outputs": [],
   "source": [
    "#rankeamos para ello havemos una particion por anyo\n",
    "df_ranked = df_union.withColumn(\"rank\", rank().over(Window.partitionBy(\"year\").orderBy(desc(\"Life Ladder\"), \"year\")))"
   ]
  },
  {
   "cell_type": "code",
   "execution_count": 12,
   "metadata": {},
   "outputs": [
    {
     "name": "stdout",
     "output_type": "stream",
     "text": [
      "+------------+-----+\n",
      "|Country Name|count|\n",
      "+------------+-----+\n",
      "|     Finland|    7|\n",
      "|     Denmark|    7|\n",
      "|      Norway|    1|\n",
      "| Switzerland|    1|\n",
      "|      Canada|    1|\n",
      "+------------+-----+\n",
      "\n"
     ]
    }
   ],
   "source": [
    "\n",
    "#vemos los 5 primeros paises\n",
    "df_ranked.filter(df_ranked[\"rank\"] == 1).groupBy(\"Country Name\").count().orderBy(desc(\"count\")).show(5)"
   ]
  },
  {
   "attachments": {},
   "cell_type": "markdown",
   "metadata": {},
   "source": [
    "Como se observa hay empate en el primer puesto entre Finladia y Dinamarca"
   ]
  },
  {
   "attachments": {},
   "cell_type": "markdown",
   "metadata": {},
   "source": [
    "4. ¿Qué puesto de Felicidad tiene el país con mayor GDP del 2020? "
   ]
  },
  {
   "cell_type": "code",
   "execution_count": 13,
   "metadata": {},
   "outputs": [],
   "source": [
    "#filtramos primero las columnas que nos interesan\n",
    "df_2_filter2 = df_2.filter(df_2[\"year\"] == 2020).select(\"Country name\",\"year\",\"Life Ladder\",\"Log GDP per capita\")"
   ]
  },
  {
   "cell_type": "code",
   "execution_count": 14,
   "metadata": {},
   "outputs": [],
   "source": [
    "#vemos que pais tiene el mayor  GDP en 2020\n",
    "gdp_2020 = df_2_filter2.orderBy(desc(\"Log GDP per capita\")).first()[0]\n",
    "\n",
    "#print(f\"El pais con mayor GDP en 2020 es {gdp_2020}.\")"
   ]
  },
  {
   "cell_type": "code",
   "execution_count": 15,
   "metadata": {},
   "outputs": [],
   "source": [
    "#rankeamos por life ladder\n",
    "filter2_ranked = df_2_filter2.withColumn(\"rank\", rank().over(Window.orderBy(desc(\"Life Ladder\"))))\n"
   ]
  },
  {
   "cell_type": "code",
   "execution_count": 16,
   "metadata": {},
   "outputs": [
    {
     "name": "stdout",
     "output_type": "stream",
     "text": [
      "El pais con mayor GDP en 2020 fue Ireland, el cual tenia el puesto de felicidad numero 13.\n"
     ]
    }
   ],
   "source": [
    "#vemos el puesto de irlanda\n",
    "lf_gdp_2020 = filter2_ranked.select(\"rank\").where(filter2_ranked[\"Country name\"] == gdp_2020).first()[0]\n",
    "print(f\"El pais con mayor GDP en 2020 fue {gdp_2020}, el cual tenia el puesto de felicidad numero {lf_gdp_2020}.\")"
   ]
  },
  {
   "attachments": {},
   "cell_type": "markdown",
   "metadata": {},
   "source": [
    "5. ¿En que porcentaje a variado a nivel mundial el GDP promedio del 2020 respecto al 2021? ¿Aumentó \n",
    "o disminuyó? "
   ]
  },
  {
   "cell_type": "code",
   "execution_count": 17,
   "metadata": {},
   "outputs": [],
   "source": [
    "#Agrupamos por anyo y calculamos la media\n",
    "\n",
    "avg_GDP = df_union.groupBy(\"year\").agg(avg(\"Log GDP per capita\").alias(\"avg Log GDP per capita\"))"
   ]
  },
  {
   "cell_type": "code",
   "execution_count": 18,
   "metadata": {},
   "outputs": [
    {
     "name": "stdout",
     "output_type": "stream",
     "text": [
      "La variacion en porcentaje de la media del GDP del 2020 al 2021 es -3.27% por lo que en el 2021 disminuyo.\n"
     ]
    }
   ],
   "source": [
    "#calculamos el porcentaje de variacion\n",
    "\n",
    "avg_GDP_2020= avg_GDP.select(\"avg Log GDP per capita\").where(avg_GDP[\"year\"] == 2020).collect()[0][0]\n",
    "\n",
    "avg_GDP_2021= avg_GDP.select(\"avg Log GDP per capita\").where(avg_GDP[\"year\"] == 2021).collect()[0][0]\n",
    "\n",
    "pct_cambio = ((avg_GDP_2021 - avg_GDP_2020) / avg_GDP_2020) * 100\n",
    "print(f\"La variacion en porcentaje de la media del GDP del 2020 al 2021 es {pct_cambio:.2f}% por lo que en el 2021 disminuyo.\")"
   ]
  },
  {
   "attachments": {},
   "cell_type": "markdown",
   "metadata": {},
   "source": [
    "6. ¿Cuál es el país con mayor expectativa de vida (“Healthy life expectancy at birth”)? Y ¿Cuánto tenia ese indicador en el 2019? "
   ]
  },
  {
   "cell_type": "code",
   "execution_count": 19,
   "metadata": {},
   "outputs": [
    {
     "name": "stdout",
     "output_type": "stream",
     "text": [
      "El pais con mayor esperanza de vida en el 2021 es Singapore.\n"
     ]
    }
   ],
   "source": [
    "#vemos que pais tiene el mayor Healthy life expectancy at birth\n",
    "Life_expectancy_2021 = df_union.select(\"Country name\", \"year\").filter(df_union[\"year\"] == 2021).orderBy(desc(\"Healthy life expectancy at birth\")).first()[0]\n",
    "print(f\"El pais con mayor esperanza de vida en el 2021 es {Life_expectancy_2021}.\")"
   ]
  },
  {
   "cell_type": "code",
   "execution_count": 20,
   "metadata": {},
   "outputs": [
    {
     "name": "stdout",
     "output_type": "stream",
     "text": [
      "Singapore tenia una esperanza de vida en el 2019 de 77.1 años.\n"
     ]
    }
   ],
   "source": [
    "#vemos que esperanza de vida tenia en el 2019\n",
    "Life_expectancy_2019 = df_union.select(\"Country name\", \"year\",\"Healthy life expectancy at birth\").filter((df_union[\"year\"] == 2019) & (df_union[\"Country name\"] == Life_expectancy_2021)).first()[2]\n",
    "print(f\"{Life_expectancy_2021} tenia una esperanza de vida en el 2019 de {Life_expectancy_2019} años.\")"
   ]
  }
 ],
 "metadata": {
  "kernelspec": {
   "display_name": "Python 3",
   "language": "python",
   "name": "python3"
  },
  "language_info": {
   "codemirror_mode": {
    "name": "ipython",
    "version": 3
   },
   "file_extension": ".py",
   "mimetype": "text/x-python",
   "name": "python",
   "nbconvert_exporter": "python",
   "pygments_lexer": "ipython3",
   "version": "3.7.9"
  },
  "orig_nbformat": 4
 },
 "nbformat": 4,
 "nbformat_minor": 2
}
